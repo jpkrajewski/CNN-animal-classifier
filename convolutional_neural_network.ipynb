{
  "cells": [
    {
      "attachments": {},
      "cell_type": "markdown",
      "metadata": {
        "id": "3DR-eO17geWu"
      },
      "source": [
        "# Convolutional Neural Network"
      ]
    },
    {
      "attachments": {},
      "cell_type": "markdown",
      "metadata": {
        "id": "EMefrVPCg-60"
      },
      "source": [
        "### Importing the libraries"
      ]
    },
    {
      "cell_type": "code",
      "execution_count": 2,
      "metadata": {
        "id": "Zh8nM1e1XXCa"
      },
      "outputs": [],
      "source": [
        "import tensorflow as tf\n",
        "from keras.preprocessing.image import ImageDataGenerator"
      ]
    },
    {
      "cell_type": "code",
      "execution_count": 3,
      "metadata": {
        "colab": {
          "base_uri": "https://localhost:8080/",
          "height": 35
        },
        "id": "tYo5yNopYRAt",
        "outputId": "3c15772f-e01a-4d78-9329-eee7f0ba9635"
      },
      "outputs": [
        {
          "data": {
            "text/plain": [
              "'2.12.0'"
            ]
          },
          "execution_count": 3,
          "metadata": {},
          "output_type": "execute_result"
        }
      ],
      "source": [
        "tf.__version__"
      ]
    },
    {
      "attachments": {},
      "cell_type": "markdown",
      "metadata": {
        "id": "oxQxCBWyoGPE"
      },
      "source": [
        "## Part 1 - Data Preprocessing"
      ]
    },
    {
      "attachments": {},
      "cell_type": "markdown",
      "metadata": {
        "id": "MvE-heJNo3GG"
      },
      "source": [
        "### Preprocessing the Training set"
      ]
    },
    {
      "cell_type": "code",
      "execution_count": 4,
      "metadata": {
        "colab": {
          "base_uri": "https://localhost:8080/",
          "height": 415
        },
        "id": "AP4nMjlGZrrE",
        "outputId": "98d41df1-010f-4bec-80f8-92cddd0526d4"
      },
      "outputs": [
        {
          "name": "stdout",
          "output_type": "stream",
          "text": [
            "Found 8000 images belonging to 2 classes.\n"
          ]
        }
      ],
      "source": [
        "train_datagen = ImageDataGenerator(\n",
        "    rescale=1./255,\n",
        "    shear_range=0.2,\n",
        "    zoom_range=0.2,\n",
        "    horizontal_flip=True\n",
        ")\n",
        "\n",
        "training_set = train_datagen.flow_from_directory(\n",
        "    directory='dataset/training_set',\n",
        "    target_size=(64, 64),\n",
        "    batch_size=32,\n",
        "    class_mode='binary'\n",
        ")"
      ]
    },
    {
      "cell_type": "code",
      "execution_count": 5,
      "metadata": {
        "id": "9fkre61UcJuh"
      },
      "outputs": [
        {
          "name": "stdout",
          "output_type": "stream",
          "text": [
            "Found 2000 images belonging to 2 classes.\n"
          ]
        }
      ],
      "source": [
        "test_datagen = ImageDataGenerator(rescale=1./255)\n",
        "test_set = test_datagen.flow_from_directory(\n",
        "    'dataset/test_set',\n",
        "    target_size=(64, 64),\n",
        "    batch_size=32,\n",
        "    class_mode='binary'\n",
        ")"
      ]
    },
    {
      "attachments": {},
      "cell_type": "markdown",
      "metadata": {
        "id": "mrCMmGw9pHys"
      },
      "source": [
        "### Preprocessing the Test set"
      ]
    },
    {
      "attachments": {},
      "cell_type": "markdown",
      "metadata": {
        "id": "af8O4l90gk7B"
      },
      "source": [
        "## Part 2 - Building the CNN"
      ]
    },
    {
      "attachments": {},
      "cell_type": "markdown",
      "metadata": {
        "id": "ces1gXY2lmoX"
      },
      "source": [
        "### Initialising the CNN"
      ]
    },
    {
      "cell_type": "code",
      "execution_count": 6,
      "metadata": {
        "id": "w8DmzULueTFm"
      },
      "outputs": [],
      "source": [
        "cnn = tf.keras.models.Sequential()"
      ]
    },
    {
      "attachments": {},
      "cell_type": "markdown",
      "metadata": {
        "id": "u5YJj_XMl5LF"
      },
      "source": [
        "### Step 1 - Convolution"
      ]
    },
    {
      "cell_type": "code",
      "execution_count": 7,
      "metadata": {
        "id": "eEI2Tl2zfMRZ"
      },
      "outputs": [],
      "source": [
        "cnn.add(tf.keras.layers.Conv2D(\n",
        "    filters=32,\n",
        "    kernel_size=3,\n",
        "    activation='relu',\n",
        "    input_shape=(64, 64, 3))\n",
        ")"
      ]
    },
    {
      "attachments": {},
      "cell_type": "markdown",
      "metadata": {
        "id": "tf87FpvxmNOJ"
      },
      "source": [
        "### Step 2 - Pooling"
      ]
    },
    {
      "cell_type": "code",
      "execution_count": 8,
      "metadata": {
        "id": "2Cw0w7pWehsp"
      },
      "outputs": [],
      "source": [
        "cnn.add(tf.keras.layers.MaxPool2D(pool_size=2, strides=2))"
      ]
    },
    {
      "attachments": {},
      "cell_type": "markdown",
      "metadata": {
        "id": "xaTOgD8rm4mU"
      },
      "source": [
        "### Adding a second convolutional layer"
      ]
    },
    {
      "cell_type": "code",
      "execution_count": 9,
      "metadata": {
        "id": "U9cvaUGUgQdg"
      },
      "outputs": [],
      "source": [
        "cnn.add(tf.keras.layers.Conv2D(\n",
        "    filters=32,\n",
        "    kernel_size=3,\n",
        "    activation='relu')\n",
        ")\n",
        "cnn.add(tf.keras.layers.MaxPool2D(pool_size=2, strides=2))"
      ]
    },
    {
      "attachments": {},
      "cell_type": "markdown",
      "metadata": {
        "id": "tmiEuvTunKfk"
      },
      "source": [
        "### Step 3 - Flattening"
      ]
    },
    {
      "cell_type": "code",
      "execution_count": 10,
      "metadata": {
        "id": "yIxI5bZ2gWi9"
      },
      "outputs": [],
      "source": [
        "cnn.add(tf.keras.layers.Flatten())"
      ]
    },
    {
      "attachments": {},
      "cell_type": "markdown",
      "metadata": {
        "id": "dAoSECOm203v"
      },
      "source": [
        "### Step 4 - Full Connection"
      ]
    },
    {
      "cell_type": "code",
      "execution_count": 11,
      "metadata": {
        "id": "N5ej0MHhgnuv"
      },
      "outputs": [],
      "source": [
        "cnn.add(tf.keras.layers.Dense(units=128, activation='relu'))\n",
        "cnn.add(tf.keras.layers.Dense(units=128, activation='relu'))\n",
        "cnn.add(tf.keras.layers.Dense(units=128, activation='relu'))"
      ]
    },
    {
      "attachments": {},
      "cell_type": "markdown",
      "metadata": {
        "id": "yTldFvbX28Na"
      },
      "source": [
        "### Step 5 - Output Layer"
      ]
    },
    {
      "cell_type": "code",
      "execution_count": 12,
      "metadata": {
        "id": "Z_Rd5JeahE4M"
      },
      "outputs": [],
      "source": [
        "cnn.add(tf.keras.layers.Dense(units=1, activation='sigmoid'))"
      ]
    },
    {
      "attachments": {},
      "cell_type": "markdown",
      "metadata": {
        "id": "D6XkI90snSDl"
      },
      "source": [
        "## Part 3 - Training the CNN"
      ]
    },
    {
      "attachments": {},
      "cell_type": "markdown",
      "metadata": {
        "id": "vfrFQACEnc6i"
      },
      "source": [
        "### Compiling the CNN"
      ]
    },
    {
      "cell_type": "code",
      "execution_count": 13,
      "metadata": {
        "id": "Ty4rKSSeipjn"
      },
      "outputs": [],
      "source": [
        "cnn.compile(\n",
        "    optimizer='adam',\n",
        "    loss='binary_crossentropy',\n",
        "    metrics=['accuracy']\n",
        ")"
      ]
    },
    {
      "attachments": {},
      "cell_type": "markdown",
      "metadata": {
        "id": "ehS-v3MIpX2h"
      },
      "source": [
        "### Training the CNN on the Training set and evaluating it on the Test set"
      ]
    },
    {
      "cell_type": "code",
      "execution_count": 14,
      "metadata": {
        "id": "c9wPEcFKjEV1"
      },
      "outputs": [
        {
          "name": "stdout",
          "output_type": "stream",
          "text": [
            "Epoch 1/30\n",
            "250/250 [==============================] - 40s 156ms/step - loss: 0.6750 - accuracy: 0.5640 - val_loss: 0.6150 - val_accuracy: 0.6715\n",
            "Epoch 2/30\n",
            "250/250 [==============================] - 29s 116ms/step - loss: 0.5994 - accuracy: 0.6750 - val_loss: 0.5697 - val_accuracy: 0.7150\n",
            "Epoch 3/30\n",
            "250/250 [==============================] - 22s 90ms/step - loss: 0.5628 - accuracy: 0.7160 - val_loss: 0.5574 - val_accuracy: 0.7220\n",
            "Epoch 4/30\n",
            "250/250 [==============================] - 26s 104ms/step - loss: 0.5250 - accuracy: 0.7419 - val_loss: 0.5099 - val_accuracy: 0.7630\n",
            "Epoch 5/30\n",
            "250/250 [==============================] - 26s 105ms/step - loss: 0.4972 - accuracy: 0.7558 - val_loss: 0.5256 - val_accuracy: 0.7560\n",
            "Epoch 6/30\n",
            "250/250 [==============================] - 42s 169ms/step - loss: 0.4676 - accuracy: 0.7781 - val_loss: 0.5104 - val_accuracy: 0.7605\n",
            "Epoch 7/30\n",
            "250/250 [==============================] - 29s 116ms/step - loss: 0.4511 - accuracy: 0.7849 - val_loss: 0.4907 - val_accuracy: 0.7685\n",
            "Epoch 8/30\n",
            "250/250 [==============================] - 30s 119ms/step - loss: 0.4308 - accuracy: 0.7986 - val_loss: 0.4765 - val_accuracy: 0.7900\n",
            "Epoch 9/30\n",
            "250/250 [==============================] - 30s 119ms/step - loss: 0.4123 - accuracy: 0.8112 - val_loss: 0.4758 - val_accuracy: 0.7880\n",
            "Epoch 10/30\n",
            "250/250 [==============================] - 49s 195ms/step - loss: 0.3937 - accuracy: 0.8230 - val_loss: 0.4965 - val_accuracy: 0.7695\n",
            "Epoch 11/30\n",
            "250/250 [==============================] - 29s 114ms/step - loss: 0.3827 - accuracy: 0.8292 - val_loss: 0.4678 - val_accuracy: 0.7770\n",
            "Epoch 12/30\n",
            "250/250 [==============================] - 27s 109ms/step - loss: 0.3715 - accuracy: 0.8324 - val_loss: 0.5380 - val_accuracy: 0.7580\n",
            "Epoch 13/30\n",
            "250/250 [==============================] - 31s 125ms/step - loss: 0.3556 - accuracy: 0.8435 - val_loss: 0.4722 - val_accuracy: 0.7930\n",
            "Epoch 14/30\n",
            "250/250 [==============================] - 33s 131ms/step - loss: 0.3425 - accuracy: 0.8472 - val_loss: 0.4931 - val_accuracy: 0.7875\n",
            "Epoch 15/30\n",
            "250/250 [==============================] - 35s 140ms/step - loss: 0.3257 - accuracy: 0.8586 - val_loss: 0.4822 - val_accuracy: 0.7860\n",
            "Epoch 16/30\n",
            "250/250 [==============================] - 36s 144ms/step - loss: 0.3099 - accuracy: 0.8644 - val_loss: 0.5080 - val_accuracy: 0.7800\n",
            "Epoch 17/30\n",
            "250/250 [==============================] - 33s 131ms/step - loss: 0.2965 - accuracy: 0.8734 - val_loss: 0.5253 - val_accuracy: 0.7850\n",
            "Epoch 18/30\n",
            "250/250 [==============================] - 32s 128ms/step - loss: 0.2843 - accuracy: 0.8764 - val_loss: 0.5774 - val_accuracy: 0.7590\n",
            "Epoch 19/30\n",
            "250/250 [==============================] - 28s 112ms/step - loss: 0.2695 - accuracy: 0.8839 - val_loss: 0.5210 - val_accuracy: 0.7950\n",
            "Epoch 20/30\n",
            "250/250 [==============================] - 27s 108ms/step - loss: 0.2523 - accuracy: 0.8935 - val_loss: 0.5715 - val_accuracy: 0.7790\n",
            "Epoch 21/30\n",
            "250/250 [==============================] - 28s 110ms/step - loss: 0.2326 - accuracy: 0.9034 - val_loss: 0.5746 - val_accuracy: 0.7910\n",
            "Epoch 22/30\n",
            "250/250 [==============================] - 30s 121ms/step - loss: 0.2304 - accuracy: 0.9064 - val_loss: 0.5671 - val_accuracy: 0.7810\n",
            "Epoch 23/30\n",
            "250/250 [==============================] - 40s 161ms/step - loss: 0.2151 - accuracy: 0.9120 - val_loss: 0.6054 - val_accuracy: 0.7920\n",
            "Epoch 24/30\n",
            "250/250 [==============================] - 35s 142ms/step - loss: 0.2095 - accuracy: 0.9156 - val_loss: 0.6200 - val_accuracy: 0.7870\n",
            "Epoch 25/30\n",
            "250/250 [==============================] - 40s 159ms/step - loss: 0.1952 - accuracy: 0.9185 - val_loss: 0.7538 - val_accuracy: 0.7905\n",
            "Epoch 26/30\n",
            "250/250 [==============================] - 29s 115ms/step - loss: 0.1998 - accuracy: 0.9204 - val_loss: 0.6317 - val_accuracy: 0.7820\n",
            "Epoch 27/30\n",
            "250/250 [==============================] - 27s 106ms/step - loss: 0.1684 - accuracy: 0.9311 - val_loss: 0.6735 - val_accuracy: 0.7830\n",
            "Epoch 28/30\n",
            "250/250 [==============================] - 27s 108ms/step - loss: 0.1638 - accuracy: 0.9323 - val_loss: 0.6526 - val_accuracy: 0.7990\n",
            "Epoch 29/30\n",
            "250/250 [==============================] - 29s 115ms/step - loss: 0.1642 - accuracy: 0.9367 - val_loss: 0.7018 - val_accuracy: 0.7950\n",
            "Epoch 30/30\n",
            "250/250 [==============================] - 31s 124ms/step - loss: 0.1591 - accuracy: 0.9350 - val_loss: 0.7932 - val_accuracy: 0.7750\n"
          ]
        },
        {
          "data": {
            "text/plain": [
              "<keras.callbacks.History at 0x199651140d0>"
            ]
          },
          "execution_count": 14,
          "metadata": {},
          "output_type": "execute_result"
        }
      ],
      "source": [
        "cnn.fit(\n",
        "    x=training_set,\n",
        "    validation_data=test_set,\n",
        "    epochs=30\n",
        ")"
      ]
    },
    {
      "attachments": {},
      "cell_type": "markdown",
      "metadata": {
        "id": "U3PZasO0006Z"
      },
      "source": [
        "## Part 4 - Making a single prediction"
      ]
    },
    {
      "cell_type": "code",
      "execution_count": 15,
      "metadata": {
        "id": "DFwGl8iUkDkO"
      },
      "outputs": [
        {
          "name": "stdout",
          "output_type": "stream",
          "text": [
            "1/1 [==============================] - 0s 128ms/step\n",
            "cat\n"
          ]
        }
      ],
      "source": [
        "import numpy as np\n",
        "from keras.utils import load_img, img_to_array\n",
        "\n",
        "test_image = load_img(\n",
        "    'dataset/test_set/cats/cat.4125.jpg',\n",
        "    target_size=(64, 64)\n",
        ")\n",
        "test_image = img_to_array(test_image)\n",
        "test_image = np.expand_dims(test_image, axis=0)\n",
        "result = cnn.predict(test_image)\n",
        "training_set.class_indices\n",
        "if result[0][0] == 1:\n",
        "  prediction = 'dog'\n",
        "else:\n",
        "  prediction = 'cat'\n",
        "\n",
        "print(prediction)"
      ]
    },
    {
      "attachments": {},
      "cell_type": "markdown",
      "metadata": {},
      "source": [
        "## Part 5 - Download model"
      ]
    },
    {
      "cell_type": "code",
      "execution_count": 16,
      "metadata": {},
      "outputs": [
        {
          "name": "stderr",
          "output_type": "stream",
          "text": [
            "WARNING:absl:Found untraced functions such as _jit_compiled_convolution_op, _jit_compiled_convolution_op, _update_step_xla while saving (showing 3 of 3). These functions will not be directly callable after loading.\n"
          ]
        },
        {
          "name": "stdout",
          "output_type": "stream",
          "text": [
            "INFO:tensorflow:Assets written to: model\\assets\n"
          ]
        },
        {
          "name": "stderr",
          "output_type": "stream",
          "text": [
            "INFO:tensorflow:Assets written to: model\\assets\n"
          ]
        }
      ],
      "source": [
        "cnn.save('model')"
      ]
    }
  ],
  "metadata": {
    "colab": {
      "provenance": []
    },
    "kernelspec": {
      "display_name": "Python 3",
      "name": "python3"
    },
    "language_info": {
      "codemirror_mode": {
        "name": "ipython",
        "version": 3
      },
      "file_extension": ".py",
      "mimetype": "text/x-python",
      "name": "python",
      "nbconvert_exporter": "python",
      "pygments_lexer": "ipython3",
      "version": "3.10.11"
    }
  },
  "nbformat": 4,
  "nbformat_minor": 0
}
